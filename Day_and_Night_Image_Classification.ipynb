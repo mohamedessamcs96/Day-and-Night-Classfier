{
  "nbformat": 4,
  "nbformat_minor": 0,
  "metadata": {
    "colab": {
      "provenance": []
    },
    "kernelspec": {
      "name": "python3",
      "display_name": "Python 3"
    },
    "language_info": {
      "name": "python"
    }
  },
  "cells": [
    {
      "cell_type": "markdown",
      "source": [
        "# Machine Learning WorkFlow\n",
        "\n",
        "\n",
        "1.   Getting the Data\n",
        "2.   Process the Data (Feature Extraction)\n",
        "3.   Select the algorithm\n",
        "4.   Train\n",
        "5.   Test\n",
        "\n",
        "\n",
        "\n",
        "\n",
        "\n"
      ],
      "metadata": {
        "id": "ZbK62msgpGdR"
      }
    },
    {
      "cell_type": "code",
      "source": [
        "from google.colab import drive\n",
        "\n",
        "drive.mount('/content/gdrive')"
      ],
      "metadata": {
        "colab": {
          "base_uri": "https://localhost:8080/"
        },
        "id": "g3VL145fp4hx",
        "outputId": "b50efdbc-63ac-437f-8bdb-c0c966b42e05"
      },
      "execution_count": null,
      "outputs": [
        {
          "output_type": "stream",
          "name": "stdout",
          "text": [
            "Mounted at /content/gdrive\n"
          ]
        }
      ]
    },
    {
      "cell_type": "code",
      "source": [
        "cd '/content/gdrive/My Drive'"
      ],
      "metadata": {
        "colab": {
          "base_uri": "https://localhost:8080/"
        },
        "id": "JM2D1fidsmRK",
        "outputId": "06e313c3-6448-4500-b2dc-83329db80b39"
      },
      "execution_count": null,
      "outputs": [
        {
          "output_type": "stream",
          "name": "stdout",
          "text": [
            "/content/gdrive/My Drive\n"
          ]
        }
      ]
    },
    {
      "cell_type": "code",
      "source": [
        "import glob\n",
        "\n",
        "DayImages=glob.glob('Day/*')\n",
        "NightImages=glob.glob('Night/*')"
      ],
      "metadata": {
        "id": "p0yO_zvFtXeY"
      },
      "execution_count": null,
      "outputs": []
    },
    {
      "cell_type": "code",
      "source": [
        "DayImages"
      ],
      "metadata": {
        "colab": {
          "base_uri": "https://localhost:8080/"
        },
        "id": "tCy5MO9Vt1Ov",
        "outputId": "3c2f6666-1df2-498f-d0a6-f7ffee77ae11"
      },
      "execution_count": null,
      "outputs": [
        {
          "output_type": "execute_result",
          "data": {
            "text/plain": [
              "['Day/cityscape-street-sunny-day-urban-preview.jpg',\n",
              " 'Day/360_F_293583117_jG53zC2gYdOGERWmhpJu4o8RPAanS4T2.jpg',\n",
              " 'Day/360_F_252751715_T0xqlD8UCOtL38LafIIvWQGwDjOQljk5.jpg']"
            ]
          },
          "metadata": {},
          "execution_count": 29
        }
      ]
    },
    {
      "cell_type": "code",
      "source": [
        "import cv2\n",
        "import numpy as np\n",
        "def avg_brightness(img):\n",
        "  img=cv2.imread(img)\n",
        "  resized_img=cv2.resize(img,(200,200))\n",
        "  hsv=cv2.cvtColor(resized_img,cv2.COLOR_BGR2HSV)\n",
        "  total_brightness=np.sum(hsv[:,:,2])\n",
        "  area=200*200\n",
        "  avg_brightness= total_brightness/area\n",
        "  return  avg_brightness"
      ],
      "metadata": {
        "id": "WfBwEKcjuPov"
      },
      "execution_count": null,
      "outputs": []
    },
    {
      "cell_type": "code",
      "source": [
        "X=[]\n",
        "Y=[]"
      ],
      "metadata": {
        "id": "pGGTnquJzuSD"
      },
      "execution_count": null,
      "outputs": []
    },
    {
      "cell_type": "code",
      "source": [
        "for i in range(len(DayImages)):\n",
        "  val=avg_brightness(DayImages[i])\n",
        "  #print(val)\n",
        "  X.append(val)\n",
        "  Y.append(1)\n",
        "  #if(val>80):print(\"Day\")\n",
        "  #else:print(\"Night\")"
      ],
      "metadata": {
        "id": "YxvMgE6KxZBJ"
      },
      "execution_count": null,
      "outputs": []
    },
    {
      "cell_type": "code",
      "source": [
        "for i in range(len(NightImages)):\n",
        "  val=avg_brightness(NightImages[i])\n",
        "  #print(val)\n",
        "  X.append(val)\n",
        "  Y.append(0)\n",
        "  #if(val>80):print(\"Day\")\n",
        "  #else:print(\"Night\")"
      ],
      "metadata": {
        "id": "tD6gvv7lx9_3"
      },
      "execution_count": null,
      "outputs": []
    },
    {
      "cell_type": "code",
      "source": [
        "X"
      ],
      "metadata": {
        "colab": {
          "base_uri": "https://localhost:8080/"
        },
        "id": "0zT6pLFV0avS",
        "outputId": "732d819a-8ade-4742-e6cb-347e6a292155"
      },
      "execution_count": null,
      "outputs": [
        {
          "output_type": "execute_result",
          "data": {
            "text/plain": [
              "[99.169225, 188.480475, 138.756725, 56.238425, 64.30485, 31.39145]"
            ]
          },
          "metadata": {},
          "execution_count": 34
        }
      ]
    },
    {
      "cell_type": "code",
      "source": [
        "Y"
      ],
      "metadata": {
        "colab": {
          "base_uri": "https://localhost:8080/"
        },
        "id": "iRAOEj6e0caB",
        "outputId": "efada2c6-bdc4-437e-e89c-8f2e6b116d98"
      },
      "execution_count": null,
      "outputs": [
        {
          "output_type": "execute_result",
          "data": {
            "text/plain": [
              "[1, 1, 1, 0, 0, 0]"
            ]
          },
          "metadata": {},
          "execution_count": 35
        }
      ]
    },
    {
      "cell_type": "code",
      "source": [
        "X=np.array(X).reshape(-1,1)\n",
        "X.shape"
      ],
      "metadata": {
        "colab": {
          "base_uri": "https://localhost:8080/"
        },
        "id": "pR-DKEAx03kx",
        "outputId": "460b1884-8175-4f8c-b8d2-5e09e416af91"
      },
      "execution_count": null,
      "outputs": [
        {
          "output_type": "execute_result",
          "data": {
            "text/plain": [
              "(6, 1)"
            ]
          },
          "metadata": {},
          "execution_count": 38
        }
      ]
    },
    {
      "cell_type": "code",
      "source": [
        "Y=np.array(Y).reshape(-1,1)\n",
        "Y.shape"
      ],
      "metadata": {
        "colab": {
          "base_uri": "https://localhost:8080/"
        },
        "id": "pxMHXuvm1BG4",
        "outputId": "c9e24e57-9c16-4235-ac8a-8a5f4c91bc1e"
      },
      "execution_count": null,
      "outputs": [
        {
          "output_type": "execute_result",
          "data": {
            "text/plain": [
              "(6, 1)"
            ]
          },
          "metadata": {},
          "execution_count": 39
        }
      ]
    },
    {
      "cell_type": "code",
      "source": [
        "from sklearn.linear_model import LogisticRegression\n",
        "clf = LogisticRegression(random_state=0).fit(X,Y)"
      ],
      "metadata": {
        "colab": {
          "base_uri": "https://localhost:8080/"
        },
        "id": "8wgrjJrZ14-q",
        "outputId": "24a5d39f-6983-4e65-a94f-e07b5cb7d06c"
      },
      "execution_count": null,
      "outputs": [
        {
          "output_type": "stream",
          "name": "stderr",
          "text": [
            "/usr/local/lib/python3.9/dist-packages/sklearn/utils/validation.py:1143: DataConversionWarning: A column-vector y was passed when a 1d array was expected. Please change the shape of y to (n_samples, ), for example using ravel().\n",
            "  y = column_or_1d(y, warn=True)\n"
          ]
        }
      ]
    },
    {
      "cell_type": "code",
      "source": [
        "label=[\"Day\",\"Night\"]\n",
        "output=clf.predict(avg_brightness(DayImages[2]).reshape(-1,1))[0]\n",
        "label[output]"
      ],
      "metadata": {
        "colab": {
          "base_uri": "https://localhost:8080/",
          "height": 35
        },
        "id": "t0LP886i2BM4",
        "outputId": "344e4cb2-9b79-4fcf-f854-db2d1158a6ee"
      },
      "execution_count": null,
      "outputs": [
        {
          "output_type": "execute_result",
          "data": {
            "text/plain": [
              "'Night'"
            ],
            "application/vnd.google.colaboratory.intrinsic+json": {
              "type": "string"
            }
          },
          "metadata": {},
          "execution_count": 51
        }
      ]
    }
  ]
}